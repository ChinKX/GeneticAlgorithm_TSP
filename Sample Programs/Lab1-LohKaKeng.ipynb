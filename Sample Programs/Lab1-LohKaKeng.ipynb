{
 "cells": [
  {
   "cell_type": "markdown",
   "metadata": {},
   "source": [
    "# Genetic Algorithm Lab"
   ]
  },
  {
   "cell_type": "markdown",
   "metadata": {},
   "source": [
    "This notebook is meant to guide you in your first full program for the Artificial Intelligence course. Instructions and convenience classes are prepared for you, but you will need to fill in various code cells in order for the notebook to be fully-functioning. These code cells are marked with #TODO comments. Feel free to modify any other code in this notebook as well. In particular, wherever you see #SUGGESTION comments, you may want to explore alternatives (not compulsory).\n",
    "\n",
    "The problem to be solved in this lab is the Travelling Salesman Problem. More details on this problem are provided in your lab sheet."
   ]
  },
  {
   "cell_type": "markdown",
   "metadata": {},
   "source": [
    "## Imports"
   ]
  },
  {
   "cell_type": "code",
   "execution_count": 16,
   "metadata": {},
   "outputs": [],
   "source": [
    "%matplotlib inline\n",
    "# Put the imports you need here\n",
    "import numpy as np\n",
    "import pandas as pd\n",
    "import matplotlib.pyplot as plt\n",
    "import random\n",
    "import time\n",
    "import csv\n",
    "from itertools import groupby\n",
    "from pprint import pprint as print # pretty printing, easier to read but takes more room"
   ]
  },
  {
   "cell_type": "markdown",
   "metadata": {},
   "source": [
    "## Convenience Classes\n",
    "\n",
    "The 'City' class allows us to easily measure distance between cities. A list of cities is called a route, and will be our chromosome for this genetic algorithm."
   ]
  },
  {
   "cell_type": "code",
   "execution_count": 17,
   "metadata": {},
   "outputs": [],
   "source": [
    "class City:\n",
    "    def __init__(self, x, y):\n",
    "        self.x = x\n",
    "        self.y = y\n",
    "        \n",
    "    def distance(self, city):\n",
    "        xDis = abs(self.x - city.x)\n",
    "        yDis = abs(self.y - city.y)\n",
    "        distance = np.sqrt((xDis ** 2) + (yDis ** 2))\n",
    "        #SUGGESTION - What if we wanted to use a different distance\n",
    "        # metric? Would that make sense for this problem?\n",
    "        return distance\n",
    "    \n",
    "    def __repr__(self):\n",
    "        return \"(\" + str(self.x) + \",\" + str(self.y) + \")\""
   ]
  },
  {
   "cell_type": "markdown",
   "metadata": {},
   "source": [
    "The 'Fitness' class helps to calculate both the distance and the fitness of a route (list of City instances)."
   ]
  },
  {
   "cell_type": "code",
   "execution_count": 18,
   "metadata": {},
   "outputs": [],
   "source": [
    "class Fitness:\n",
    "    def __init__(self, route):\n",
    "        self.route = route\n",
    "        self.distance = None\n",
    "        self.fitness = None\n",
    "    \n",
    "    def routeDistance(self):\n",
    "        if self.distance == None:\n",
    "            pathDistance = 0.0\n",
    "            for i in range(0, len(self.route)):\n",
    "                fromCity = self.route[i]\n",
    "                toCity = None\n",
    "                if i+1 < len(self.route):\n",
    "                    toCity = self.route[i+1]\n",
    "                else:\n",
    "                    toCity = self.route[0]\n",
    "                pathDistance += fromCity.distance(toCity)\n",
    "            self.distance = pathDistance\n",
    "        return self.distance\n",
    "    \n",
    "    def routeFitness(self):\n",
    "        if self.fitness == None:\n",
    "            self.fitness = 1 / float(self.routeDistance())\n",
    "            #SUGGESTION - Is the scaling an issue with this method\n",
    "            # of defining fitness? Would negative distance make more\n",
    "            # sense (obviously with properly defined selection functions)\n",
    "        return self.fitness"
   ]
  },
  {
   "cell_type": "markdown",
   "metadata": {},
   "source": [
    "## Initialization Step\n",
    "\n",
    "Initialization starts with a large **population** of randomly generated chromosomes. We will use 3 functions. The first one generates a list of cities from a file."
   ]
  },
  {
   "cell_type": "code",
   "execution_count": 19,
   "metadata": {},
   "outputs": [],
   "source": [
    "def genCityList(filename):\n",
    "    cityList = []\n",
    "    lines = [line.strip() for line in open(filename)]\n",
    "    for line in lines:\n",
    "        data = line.split()\n",
    "        cityList.append(City(x=float(data[1]), y=float(data[2])))\n",
    "    return cityList"
   ]
  },
  {
   "cell_type": "markdown",
   "metadata": {},
   "source": [
    "The second function generates a random route (chromosome) from a list of City instances."
   ]
  },
  {
   "cell_type": "code",
   "execution_count": 20,
   "metadata": {},
   "outputs": [],
   "source": [
    "def createRoute(cityList):\n",
    "    route = random.sample(cityList, len(cityList))\n",
    "    return route"
   ]
  },
  {
   "cell_type": "markdown",
   "metadata": {},
   "source": [
    "The third function repeatedly calls the second function to create an initial population (list of routes)."
   ]
  },
  {
   "cell_type": "code",
   "execution_count": 21,
   "metadata": {},
   "outputs": [],
   "source": [
    "def initialPopulation(popSize, cityList):\n",
    "    population = []\n",
    "    for i in range(0, popSize):\n",
    "        population.append(createRoute(cityList))\n",
    "    #SUGGESTION - Could population be 'seeded' with known good routes?\n",
    "    # In other words, would heuristic initialization help?\n",
    "    return population"
   ]
  },
  {
   "cell_type": "markdown",
   "metadata": {},
   "source": [
    "The cells below are set to have Markdown type, even though they contain python code. You should change their type and run them to test the functions you've created in this section. You can always change any cell's type to Markdown to 'disable' it from running with everything else."
   ]
  },
  {
   "cell_type": "markdown",
   "metadata": {},
   "source": [
    "cityList = genCityList('TSPdata/tsp-case00.txt')\n",
    "print(cityList)"
   ]
  },
  {
   "cell_type": "markdown",
   "metadata": {},
   "source": [
    "cityList = genCityList('tsp-case01.txt')\n",
    "population = initialPopulation(3, cityList)\n",
    "print(population)"
   ]
  },
  {
   "cell_type": "code",
   "execution_count": 22,
   "metadata": {},
   "outputs": [],
   "source": [
    "def rankRoutes(population):\n",
    "    popFitness = [(population.index(i), Fitness(i).routeFitness()) for i in population]\n",
    "    ranked = sorted(popFitness, key=lambda x: x[1], reverse=True)\n",
    "    return [i[0] for i in ranked]\n",
    "    "
   ]
  },
  {
   "cell_type": "markdown",
   "metadata": {},
   "source": [
    "## Selection\n",
    "\n",
    "Parent selection is the primary form of selection, and is used to create a mating pool."
   ]
  },
  {
   "cell_type": "markdown",
   "metadata": {},
   "source": [
    "def parentSelection(population, poolSize=None):\n",
    "    \n",
    "    if poolSize == None:\n",
    "        poolSize = len(population)\n",
    "        \n",
    "    matingPool = []\n",
    "    \n",
    "    max = sum([Fitness(i).routeFitness() for i in population])\n",
    "    for chromosome in population:\n",
    "        pick = random.uniform(0, max)\n",
    "        current = 0\n",
    "        current += Fitness(chromosome).routeFitness()\n",
    "        if current > pick:\n",
    "            matingPool.append(chromosome)\n",
    "    return matingPool"
   ]
  },
  {
   "cell_type": "code",
   "execution_count": 23,
   "metadata": {},
   "outputs": [],
   "source": [
    "def parentSelection(population, poolSize=None):\n",
    "    \n",
    "    if poolSize == None:\n",
    "        poolSize = len(population)\n",
    "        \n",
    "    matingPool = []\n",
    "    \n",
    "    while len(matingPool) < poolSize:\n",
    "        participants = random.sample(population, int(poolSize * 0.2))\n",
    "        ranked = rankRoutes(participants)\n",
    "        matingPool.append(participants[ranked[0]])\n",
    "    \n",
    "    return matingPool"
   ]
  },
  {
   "cell_type": "markdown",
   "metadata": {},
   "source": [
    "Another form of selection is survivor selection, which is used to ensure certain individuals (normally high fitness ones) survive to the next generation."
   ]
  },
  {
   "cell_type": "code",
   "execution_count": 24,
   "metadata": {},
   "outputs": [],
   "source": [
    "def survivorSelection(population, eliteSize):\n",
    "    \"\"\"\n",
    "    This function returns a list of length eliteSize (the selected\n",
    "    City instances which will be preserved)\n",
    "    \"\"\"\n",
    "    popRanked = rankRoutes(population)\n",
    "    elites = []\n",
    "    \n",
    "    for i in range(eliteSize):\n",
    "        elites.append(population[popRanked[i]])\n",
    "    \n",
    "    return elites"
   ]
  },
  {
   "cell_type": "markdown",
   "metadata": {},
   "source": [
    "The cells below are set to have Markdown type, even though they contain python code. You should change their type and run them to test the functions you've created in this section. You can always change any cell's type to Markdown to 'disable' it from running with everything else."
   ]
  },
  {
   "cell_type": "markdown",
   "metadata": {},
   "source": [
    "population = initialPopulation(4, genCityList('TSPdata/tsp-case00.txt'))\n",
    "matingpool = parentSelection(population, 3)\n",
    "print('Initial population')\n",
    "print(population)\n",
    "print('Mating pool')\n",
    "print(matingpool)"
   ]
  },
  {
   "cell_type": "markdown",
   "metadata": {},
   "source": [
    "population = initialPopulation(4, genCityList('TSPdata/tsp-case00.txt'))\n",
    "elites = survivorSelection(population, 1)\n",
    "print('Initial population')\n",
    "print(population)\n",
    "print('Selected elites')\n",
    "print(elites)"
   ]
  },
  {
   "cell_type": "markdown",
   "metadata": {},
   "source": [
    "## Crossover\n",
    "\n",
    "The crossover function combines two parents in such a way that their children inherit some of each parent's characteristics. In the case of TSP, you will need to use crossover methods such as Davis' Order Crossover (other examples are listed in the lecture slides)."
   ]
  },
  {
   "cell_type": "markdown",
   "metadata": {},
   "source": [
    "def crossover(parent1, parent2):\n",
    "    \n",
    "    #Davis order crossover\n",
    "    \n",
    "    selectedGeneIndex = sorted(random.sample(list(range(len(parent1))), int(len(parent1)/2)))\n",
    "    selectedParent1Gene = parent1[selectedGeneIndex[0]: selectedGeneIndex[1] + 1]\n",
    "    selectedParent2Gene = parent2[selectedGeneIndex[0]: selectedGeneIndex[1] + 1]\n",
    "    \n",
    "    child1 = [None] * len(parent1)\n",
    "    child2 = [None] * len(parent1)\n",
    "        \n",
    "    for i in range(len(parent2)):\n",
    "        if parent2[i] not in selectedParent1Gene:\n",
    "            child1[i] = parent2[i]\n",
    "        if parent1[i] not in selectedParent2Gene:\n",
    "            child2[i] = parent1[i]\n",
    "\n",
    "    for i in range(len(child1)):\n",
    "        if child1[i] is None:\n",
    "            child1[i] = selectedParent1Gene.pop(0)\n",
    "        if child2[i] is None:\n",
    "            child2[i] = selectedParent2Gene.pop(0)\n",
    "    \n",
    "    return child1, child2\n",
    "    "
   ]
  },
  {
   "cell_type": "code",
   "execution_count": 25,
   "metadata": {},
   "outputs": [],
   "source": [
    "def crossover(parent1, parent2):\n",
    "    \n",
    "    #Order one crossover\n",
    "    \n",
    "    child1 = [None] * len(parent1)\n",
    "    child2 = [None] * len(parent1)\n",
    "    \n",
    "    startEndIndex = sorted(random.sample(list(range(len(parent1))), 2))\n",
    "    \n",
    "    parent1Selected = parent1[startEndIndex[0]: startEndIndex[1] + 1]\n",
    "    parent2Selected = parent2[startEndIndex[0]: startEndIndex[1] + 1]\n",
    "    \n",
    "    child1[startEndIndex[0]: startEndIndex[1] + 1] = parent1Selected\n",
    "    child2[startEndIndex[0]: startEndIndex[1] + 1] = parent2Selected\n",
    "    \n",
    "    newParent2 = parent2[startEndIndex[1] + 1:] + parent2[0: startEndIndex[1] + 1]\n",
    "    newParent2 = [i for i in newParent2 if i not in parent1Selected]\n",
    "    \n",
    "    newParent1 = parent1[startEndIndex[1] + 1:] + parent1[0: startEndIndex[1] + 1]\n",
    "    newParent1 = [i for i in newParent1 if i not in parent2Selected]\n",
    "    \n",
    "    for i in range(len(child1)):\n",
    "        if child1[i] is None:\n",
    "            child1[i] = newParent2.pop(0)\n",
    "            \n",
    "    for i in range(len(child2)):\n",
    "        if child2[i] is None:\n",
    "            child2[i] = newParent1.pop(0)\n",
    "        \n",
    "                    \n",
    "    return child1, child2"
   ]
  },
  {
   "cell_type": "markdown",
   "metadata": {},
   "source": [
    "Crossover should be run on pairs from the mating pool to produce a new generation (of the same size)."
   ]
  },
  {
   "cell_type": "code",
   "execution_count": 26,
   "metadata": {},
   "outputs": [],
   "source": [
    "def breedPopulation(matingpool):\n",
    "    children = []\n",
    "    \n",
    "    for i in range(1, len(matingpool), 2):\n",
    "        child1, child2 = crossover(matingpool[i-1], matingpool[i])\n",
    "        children.append(child1)\n",
    "        children.append(child2)\n",
    "    #SUGGESTION - would randomly choosing parents from matingpool make\n",
    "    # a difference compared to just choosing them in order? Wouldn't be\n",
    "    # too hard to test that, would it?\n",
    "    \n",
    "    return children"
   ]
  },
  {
   "cell_type": "markdown",
   "metadata": {},
   "source": [
    "The cells below are set to have Markdown type, even though they contain python code. You should change their type and run them to test the functions you've created in this section. You can always change any cell's type to Markdown to 'disable' it from running with everything else."
   ]
  },
  {
   "cell_type": "markdown",
   "metadata": {},
   "source": [
    "population = initialPopulation(2, genCityList('TSPdata/tsp-case00.txt'))\n",
    "parent1, parent2 = population\n",
    "child1, child2 = crossover(parent1, parent2)\n",
    "print('Parents')\n",
    "print(parent1)\n",
    "print(parent2)\n",
    "print('Children')\n",
    "print(child1)\n",
    "print(child2)"
   ]
  },
  {
   "cell_type": "markdown",
   "metadata": {},
   "source": [
    "## Mutation\n",
    "\n",
    "Mutations are small random changes which maintain/introduce diversity. By necessity, mutations must occur at low probability and avoid changing everything in a chromosome. As with crossover, mutation in TSP must respect the constraint that every City occurs exactly once in the Route."
   ]
  },
  {
   "cell_type": "markdown",
   "metadata": {},
   "source": [
    "def mutate(route, mutationProbability):\n",
    "\n",
    "    #Swap\n",
    "    \n",
    "    mutatedRoute = route[:]\n",
    "    if random.random() < mutationProbability:\n",
    "        swapGenes = random.sample(list(range(len(route))), 2)\n",
    "        temp = mutatedRoute[swapGenes[0]]\n",
    "        mutatedRoute[swapGenes[0]] = mutatedRoute[swapGenes[1]]\n",
    "        mutatedRoute[swapGenes[1]] = temp\n",
    "        \n",
    "    return mutatedRoute\n"
   ]
  },
  {
   "cell_type": "code",
   "execution_count": 27,
   "metadata": {},
   "outputs": [],
   "source": [
    "def mutate(route, mutationProbability):\n",
    "    \n",
    "    #Scramble\n",
    "    \n",
    "    mutatedRoute = route[:]\n",
    "    if random.random() < mutationProbability:\n",
    "        subsetIndex = sorted(random.sample(list(range(len(mutatedRoute))), 2))\n",
    "        subset = mutatedRoute[subsetIndex[0]: subsetIndex[1] + 1]\n",
    "        scrambled = random.sample(subset, len(subset))\n",
    "        \n",
    "        for i in range(subsetIndex[0], subsetIndex[1] + 1):\n",
    "            mutatedRoute[i] = scrambled.pop(0)\n",
    "    \n",
    "    return mutatedRoute"
   ]
  },
  {
   "cell_type": "markdown",
   "metadata": {},
   "source": [
    "The mutate function needs to be run over the entire population, obviously."
   ]
  },
  {
   "cell_type": "code",
   "execution_count": 28,
   "metadata": {},
   "outputs": [],
   "source": [
    "def mutation(population, mutationProbability):\n",
    "    mutatedPopulation = []\n",
    "    for i in range(0, len(population)):\n",
    "        mutatedIndividual = mutate(population[i], mutationProbability)\n",
    "        mutatedPopulation.append(mutatedIndividual)\n",
    "    return mutatedPopulation"
   ]
  },
  {
   "cell_type": "markdown",
   "metadata": {},
   "source": [
    "The cells below are set to have Markdown type, even though they contain python code. You should change their type and run them to test the functions you've created in this section. You can always change any cell's type to Markdown to 'disable' it from running with everything else."
   ]
  },
  {
   "cell_type": "markdown",
   "metadata": {},
   "source": [
    "route = genCityList('TSPdata/tsp-case00.txt')\n",
    "mutated = mutate(route, 1)  # Give a pretty high chance for mutation\n",
    "print('Original route')\n",
    "print(route)\n",
    "print('Mutated route')\n",
    "print(mutated)"
   ]
  },
  {
   "cell_type": "markdown",
   "metadata": {},
   "source": [
    "## Running One Generation\n",
    "\n",
    "Now that we have (almost) all our component functions in place, let's call them altogether."
   ]
  },
  {
   "cell_type": "code",
   "execution_count": 29,
   "metadata": {},
   "outputs": [],
   "source": [
    "def oneGeneration(population, eliteSize, mutationProbability):\n",
    "    \n",
    "    # First we preserve the elites\n",
    "    elites = survivorSelection(population, eliteSize)\n",
    "    \n",
    "    # Then we calculate what our mating pool size should be and generate\n",
    "    # the mating pool\n",
    "    poolSize = len(population) - eliteSize\n",
    "    matingpool = parentSelection(population, poolSize)\n",
    "    #SUGGESTION - What if the elites were removed from the mating pool?\n",
    "    # Would that help or hurt the genetic algorithm? How would that affect\n",
    "    # diversity? How would that affect performance/convergence?\n",
    "    # Then we perform crossover on the mating pool\n",
    "    children = breedPopulation(matingpool)\n",
    "    \n",
    "    # We combine the elites and children into one population\n",
    "    new_population = elites + children\n",
    "    \n",
    "    # We mutate the population\n",
    "    mutated_population = mutation(new_population, mutationProbability)\n",
    "    #SUGGESTION - If we do mutation before selection and breeding, does\n",
    "    # it make any difference?\n",
    "    \n",
    "    return mutated_population"
   ]
  },
  {
   "cell_type": "markdown",
   "metadata": {},
   "source": [
    "The cells below are set to have Markdown type, even though they contain python code. You should change their type and run them to test the functions you've created in this section. You can always change any cell's type to Markdown to 'disable' it from running with everything else."
   ]
  },
  {
   "cell_type": "markdown",
   "metadata": {},
   "source": [
    "population = initialPopulation(5, genCityList('TSPdata/tsp-case04.txt'))\n",
    "eliteSize = 1\n",
    "mutationProbability = 0.01\n",
    "new_population = oneGeneration(population, eliteSize, mutationProbability)\n",
    "print('Initial population')\n",
    "print(population)\n",
    "print('New population')\n",
    "print(new_population)"
   ]
  },
  {
   "cell_type": "markdown",
   "metadata": {},
   "source": [
    "## Running Genetic Algorithm\n",
    "\n",
    "The entire genetic algorithm needs to initialize a Route of City instances, then iteratively generate new generations. Take note that, unlike all the cells above, the cell below is NOT a function. Various parameters are set right at the top (you should set them to something reasonable)."
   ]
  },
  {
   "cell_type": "code",
   "execution_count": 30,
   "metadata": {},
   "outputs": [
    {
     "name": "stdout",
     "output_type": "stream",
     "text": [
      "'Best distance for initial population: 41616946.45053146'\n",
      "'Best distance for population in iteration 0: 41421767.06268823'\n",
      "'Best distance for population in iteration 1: 41340482.37245255'\n",
      "'Best distance for population in iteration 2: 41259754.46650478'\n",
      "'Best distance for population in iteration 3: 41184527.47470829'\n",
      "'Best distance for population in iteration 4: 41040209.1098684'\n",
      "'Best distance for population in iteration 5: 40971315.67521939'\n",
      "'Best distance for population in iteration 6: 40891849.92174105'\n",
      "'Best distance for population in iteration 7: 40835670.58882459'\n",
      "'Best distance for population in iteration 8: 40765564.07314092'\n",
      "'Best distance for population in iteration 9: 40728886.352417886'\n",
      "'Best distance for population in iteration 10: 40713242.81733044'\n",
      "'Best distance for population in iteration 11: 40669954.17913811'\n",
      "'Best distance for population in iteration 12: 40645111.47530999'\n",
      "'Best distance for population in iteration 13: 40637255.628166355'\n",
      "'Best distance for population in iteration 14: 40606015.01823342'\n",
      "'Best distance for population in iteration 15: 40602291.32308284'\n",
      "'Best distance for population in iteration 16: 40589633.35445606'\n",
      "'Best distance for population in iteration 17: 40583749.961589396'\n",
      "'Best distance for population in iteration 18: 40565397.74696342'\n",
      "'Best distance for population in iteration 19: 40562623.4200469'\n",
      "'Best distance for population in iteration 20: 40546000.56130442'\n",
      "'Best distance for population in iteration 21: 40536095.55981772'\n",
      "'Best distance for population in iteration 22: 40516511.41152863'\n",
      "'Best distance for population in iteration 23: 40506882.69287041'\n",
      "'Best distance for population in iteration 24: 40482318.24648763'\n",
      "'Best distance for population in iteration 25: 40475909.214725494'\n",
      "'Best distance for population in iteration 26: 40459066.90374247'\n",
      "'Best distance for population in iteration 27: 40446646.575174004'\n",
      "'Best distance for population in iteration 28: 40435189.83381419'\n",
      "'Best distance for population in iteration 29: 40387382.875235066'\n",
      "'Best distance for population in iteration 30: 40379244.58393022'\n",
      "'Best distance for population in iteration 31: 40355668.973895825'\n",
      "'Best distance for population in iteration 32: 40329850.026280314'\n",
      "'Best distance for population in iteration 33: 40320873.10519953'\n",
      "'Best distance for population in iteration 34: 40296185.67235166'\n",
      "'Best distance for population in iteration 35: 40254930.20813814'\n",
      "'Best distance for population in iteration 36: 40237626.82857709'\n",
      "'Best distance for population in iteration 37: 40219633.401979744'\n",
      "'Best distance for population in iteration 38: 40216269.992221065'\n",
      "'Best distance for population in iteration 39: 40198967.3161175'\n",
      "'Best distance for population in iteration 40: 40188000.0937807'\n",
      "'Best distance for population in iteration 41: 40175000.926843934'\n",
      "'Best distance for population in iteration 42: 40162320.48901137'\n",
      "'Best distance for population in iteration 43: 40135367.958809055'\n",
      "'Best distance for population in iteration 44: 40130480.82088673'\n",
      "'Best distance for population in iteration 45: 40117229.51802811'\n",
      "'Best distance for population in iteration 46: 40091969.629567035'\n",
      "'Best distance for population in iteration 47: 40089958.53078415'\n",
      "'Best distance for population in iteration 48: 40054043.58367513'\n",
      "'Best distance for population in iteration 49: 40047133.03288546'\n",
      "'Best distance for population in iteration 50: 40019504.79865204'\n",
      "'Best distance for population in iteration 51: 40007216.43946299'\n",
      "'Best distance for population in iteration 52: 39992009.68322008'\n",
      "'Best distance for population in iteration 53: 39964786.49805656'\n",
      "'Best distance for population in iteration 54: 39959757.021299966'\n",
      "'Best distance for population in iteration 55: 39947696.01236182'\n",
      "'Best distance for population in iteration 56: 39928653.66839321'\n",
      "'Best distance for population in iteration 57: 39912423.81002861'\n",
      "'Best distance for population in iteration 58: 39893334.192519546'\n",
      "'Best distance for population in iteration 59: 39884098.25940626'\n",
      "'Best distance for population in iteration 60: 39859946.68680594'\n",
      "'Best distance for population in iteration 61: 39858732.981492475'\n",
      "'Best distance for population in iteration 62: 39835400.69554731'\n",
      "'Best distance for population in iteration 63: 39819939.529099256'\n",
      "'Best distance for population in iteration 64: 39812997.21305792'\n",
      "'Best distance for population in iteration 65: 39802220.56298652'\n",
      "'Best distance for population in iteration 66: 39794324.62222398'\n",
      "'Best distance for population in iteration 67: 39784199.85381357'\n",
      "'Best distance for population in iteration 68: 39770348.73218393'\n",
      "'Best distance for population in iteration 69: 39759511.942982465'\n",
      "'Best distance for population in iteration 70: 39747971.18339381'\n",
      "'Best distance for population in iteration 71: 39730169.588119954'\n",
      "'Best distance for population in iteration 72: 39730169.588119954'\n",
      "'Best distance for population in iteration 73: 39723524.778744705'\n",
      "'Best distance for population in iteration 74: 39714849.003042735'\n",
      "'Best distance for population in iteration 75: 39707548.14370654'\n",
      "'Best distance for population in iteration 76: 39699199.113188006'\n",
      "'Best distance for population in iteration 77: 39685512.19474342'\n",
      "'Best distance for population in iteration 78: 39683152.10181499'\n",
      "'Best distance for population in iteration 79: 39677263.05370449'\n",
      "'Best distance for population in iteration 80: 39667770.45493101'\n",
      "'Best distance for population in iteration 81: 39656176.63092177'\n",
      "'Best distance for population in iteration 82: 39644179.182994954'\n",
      "'Best distance for population in iteration 83: 39641533.09919166'\n",
      "'Best distance for population in iteration 84: 39632254.09800156'\n",
      "'Best distance for population in iteration 85: 39626314.798692934'\n",
      "'Best distance for population in iteration 86: 39615735.71254134'\n",
      "'Best distance for population in iteration 87: 39601230.2134316'\n",
      "'Best distance for population in iteration 88: 39580936.094550624'\n",
      "'Best distance for population in iteration 89: 39574285.41725998'\n",
      "'Best distance for population in iteration 90: 39547324.487410516'\n",
      "'Best distance for population in iteration 91: 39544392.94542664'\n",
      "'Best distance for population in iteration 92: 39536741.76050986'\n",
      "'Best distance for population in iteration 93: 39532758.46332068'\n",
      "'Best distance for population in iteration 94: 39521499.69688757'\n",
      "'Best distance for population in iteration 95: 39512086.71341324'\n",
      "'Best distance for population in iteration 96: 39498066.754471935'\n",
      "'Best distance for population in iteration 97: 39488777.27915551'\n",
      "'Best distance for population in iteration 98: 39474855.44047248'\n",
      "'Best distance for population in iteration 99: 39464754.823383056'\n",
      "'Best distance for population in iteration 100: 39452534.056690596'\n",
      "'Best distance for population in iteration 101: 39444565.70615766'\n",
      "'Best distance for population in iteration 102: 39431753.104331665'\n",
      "'Best distance for population in iteration 103: 39416047.137429714'\n",
      "'Best distance for population in iteration 104: 39409786.694235645'\n",
      "'Best distance for population in iteration 105: 39397477.07654257'\n",
      "'Best distance for population in iteration 106: 39389189.16239106'\n",
      "'Best distance for population in iteration 107: 39377938.48054825'\n",
      "'Best distance for population in iteration 108: 39375993.55414601'\n",
      "'Best distance for population in iteration 109: 39362031.74574396'\n",
      "'Best distance for population in iteration 110: 39354994.258612804'\n",
      "'Best distance for population in iteration 111: 39340681.24344019'\n",
      "'Best distance for population in iteration 112: 39332588.825558886'\n",
      "'Best distance for population in iteration 113: 39327246.215859495'\n",
      "'Best distance for population in iteration 114: 39313979.49181606'\n",
      "'Best distance for population in iteration 115: 39304494.7976118'\n",
      "'Best distance for population in iteration 116: 39285488.54357241'\n",
      "'Best distance for population in iteration 117: 39281123.90637909'\n",
      "'Best distance for population in iteration 118: 39262603.59608274'\n",
      "'Best distance for population in iteration 119: 39248322.85635209'\n",
      "'Best distance for population in iteration 120: 39242384.247316405'\n",
      "'Best distance for population in iteration 121: 39221115.111137316'\n",
      "'Best distance for population in iteration 122: 39211529.314692385'\n"
     ]
    },
    {
     "name": "stdout",
     "output_type": "stream",
     "text": [
      "'Best distance for population in iteration 123: 39197604.967041604'\n",
      "'Best distance for population in iteration 124: 39190185.088968806'\n",
      "'Best distance for population in iteration 125: 39176524.739759505'\n",
      "'Best distance for population in iteration 126: 39136929.107818365'\n",
      "'Best distance for population in iteration 127: 39129265.64488611'\n",
      "'Best distance for population in iteration 128: 39126961.62447417'\n",
      "'Best distance for population in iteration 129: 39117425.16377277'\n",
      "'Best distance for population in iteration 130: 39103937.54597042'\n",
      "'Best distance for population in iteration 131: 39097939.785160996'\n",
      "'Best distance for population in iteration 132: 39088156.66201436'\n",
      "'Best distance for population in iteration 133: 39080677.82150005'\n",
      "'Best distance for population in iteration 134: 39064961.80291222'\n",
      "'Best distance for population in iteration 135: 39044992.77764317'\n",
      "'Best distance for population in iteration 136: 39041733.52296827'\n",
      "'Best distance for population in iteration 137: 39038022.10947919'\n",
      "'Best distance for population in iteration 138: 39028525.161467366'\n",
      "'Best distance for population in iteration 139: 39019177.1525528'\n",
      "'Best distance for population in iteration 140: 39006542.05380985'\n",
      "'Best distance for population in iteration 141: 38998027.90340972'\n",
      "'Best distance for population in iteration 142: 38986574.35476189'\n",
      "'Best distance for population in iteration 143: 38976807.12262396'\n",
      "'Best distance for population in iteration 144: 38975192.49668507'\n",
      "'Best distance for population in iteration 145: 38964878.89906951'\n",
      "'Best distance for population in iteration 146: 38946950.04913119'\n",
      "'Best distance for population in iteration 147: 38941254.80785094'\n",
      "'Best distance for population in iteration 148: 38926962.98305638'\n",
      "'Best distance for population in iteration 149: 38923378.211561084'\n",
      "'Best distance for population in iteration 150: 38912115.92931253'\n",
      "'Best distance for population in iteration 151: 38879275.30760579'\n",
      "'Best distance for population in iteration 152: 38879275.30760579'\n",
      "'Best distance for population in iteration 153: 38866557.374390885'\n",
      "'Best distance for population in iteration 154: 38860325.77038312'\n",
      "'Best distance for population in iteration 155: 38857334.08831525'\n",
      "'Best distance for population in iteration 156: 38849959.564739875'\n",
      "'Best distance for population in iteration 157: 38841532.27731738'\n",
      "'Best distance for population in iteration 158: 38827714.458730906'\n",
      "'Best distance for population in iteration 159: 38818645.808783166'\n",
      "'Best distance for population in iteration 160: 38804901.92422644'\n",
      "'Best distance for population in iteration 161: 38788706.263254076'\n",
      "'Best distance for population in iteration 162: 38784554.63714055'\n",
      "'Best distance for population in iteration 163: 38776928.54131579'\n",
      "'Best distance for population in iteration 164: 38768225.81586975'\n",
      "'Best distance for population in iteration 165: 38761838.31075047'\n",
      "'Best distance for population in iteration 166: 38755428.066695586'\n",
      "'Best distance for population in iteration 167: 38751900.65032495'\n",
      "'Best distance for population in iteration 168: 38729684.48022176'\n",
      "'Best distance for population in iteration 169: 38723357.567797765'\n",
      "'Best distance for population in iteration 170: 38718778.42493777'\n",
      "'Best distance for population in iteration 171: 38706882.745160975'\n",
      "'Best distance for population in iteration 172: 38692905.34070946'\n",
      "'Best distance for population in iteration 173: 38688414.83629869'\n",
      "'Best distance for population in iteration 174: 38670396.869965665'\n",
      "'Best distance for population in iteration 175: 38662918.848130405'\n",
      "'Best distance for population in iteration 176: 38655875.508152395'\n",
      "'Best distance for population in iteration 177: 38644541.04403485'\n",
      "'Best distance for population in iteration 178: 38638031.25338209'\n",
      "'Best distance for population in iteration 179: 38627913.329036504'\n",
      "'Best distance for population in iteration 180: 38614586.27840638'\n",
      "'Best distance for population in iteration 181: 38605905.87295749'\n",
      "'Best distance for population in iteration 182: 38592989.856669344'\n",
      "'Best distance for population in iteration 183: 38582527.9264403'\n",
      "'Best distance for population in iteration 184: 38563491.36882636'\n",
      "'Best distance for population in iteration 185: 38556942.35515117'\n",
      "'Best distance for population in iteration 186: 38548426.82237521'\n",
      "'Best distance for population in iteration 187: 38542465.89879648'\n",
      "'Best distance for population in iteration 188: 38529848.934913434'\n",
      "'Best distance for population in iteration 189: 38521849.00229162'\n",
      "'Best distance for population in iteration 190: 38510716.99838874'\n",
      "'Best distance for population in iteration 191: 38510716.99838874'\n",
      "'Best distance for population in iteration 192: 38502029.294457756'\n",
      "'Best distance for population in iteration 193: 38495936.73313489'\n",
      "'Best distance for population in iteration 194: 38488807.79042324'\n",
      "'Best distance for population in iteration 195: 38476142.5924703'\n",
      "'Best distance for population in iteration 196: 38469030.87843958'\n",
      "'Best distance for population in iteration 197: 38456508.744567014'\n",
      "'Best distance for population in iteration 198: 38451182.22907941'\n",
      "'Best distance for population in iteration 199: 38441537.70818622'\n",
      "'Best distance for population in iteration 200: 38437983.42426017'\n",
      "'Best distance for population in iteration 201: 38430359.101872295'\n",
      "'Best distance for population in iteration 202: 38423980.10960015'\n",
      "'Best distance for population in iteration 203: 38415565.10277111'\n",
      "'Best distance for population in iteration 204: 38405220.799609244'\n",
      "'Best distance for population in iteration 205: 38394253.69059034'\n",
      "'Best distance for population in iteration 206: 38385449.89282812'\n",
      "'Best distance for population in iteration 207: 38382608.00230412'\n",
      "'Best distance for population in iteration 208: 38368905.13915207'\n",
      "'Best distance for population in iteration 209: 38358807.85086472'\n",
      "'Best distance for population in iteration 210: 38348953.44651422'\n",
      "'Best distance for population in iteration 211: 38335957.026493944'\n",
      "'Best distance for population in iteration 212: 38328617.346417844'\n",
      "'Best distance for population in iteration 213: 38325802.67551317'\n",
      "'Best distance for population in iteration 214: 38317243.06888619'\n",
      "'Best distance for population in iteration 215: 38313844.31321897'\n",
      "'Best distance for population in iteration 216: 38300973.78774698'\n",
      "'Best distance for population in iteration 217: 38289155.75900615'\n",
      "'Best distance for population in iteration 218: 38280213.33813065'\n",
      "'Best distance for population in iteration 219: 38269523.8356534'\n",
      "'Best distance for population in iteration 220: 38267150.111308716'\n",
      "'Best distance for population in iteration 221: 38261920.74636079'\n",
      "'Best distance for population in iteration 222: 38251158.25189535'\n",
      "'Best distance for population in iteration 223: 38230041.39174242'\n",
      "'Best distance for population in iteration 224: 38227241.11844184'\n",
      "'Best distance for population in iteration 225: 38220003.9048757'\n",
      "'Best distance for population in iteration 226: 38204152.55044413'\n",
      "'Best distance for population in iteration 227: 38195928.96476371'\n",
      "'Best distance for population in iteration 228: 38176036.53657008'\n",
      "'Best distance for population in iteration 229: 38172119.95979103'\n",
      "'Best distance for population in iteration 230: 38164194.90560493'\n",
      "'Best distance for population in iteration 231: 38159004.97125849'\n",
      "'Best distance for population in iteration 232: 38137793.06047452'\n",
      "'Best distance for population in iteration 233: 38129271.27646821'\n",
      "'Best distance for population in iteration 234: 38103906.84218294'\n",
      "'Best distance for population in iteration 235: 38097822.88235213'\n",
      "'Best distance for population in iteration 236: 38094259.966061264'\n",
      "'Best distance for population in iteration 237: 38085701.17730499'\n",
      "'Best distance for population in iteration 238: 38079641.33302927'\n",
      "'Best distance for population in iteration 239: 38072291.88778961'\n",
      "'Best distance for population in iteration 240: 38064329.068241455'\n",
      "'Best distance for population in iteration 241: 38054914.81617402'\n",
      "'Best distance for population in iteration 242: 38041796.60644118'\n",
      "'Best distance for population in iteration 243: 38031563.28085371'\n",
      "'Best distance for population in iteration 244: 38027546.576499455'\n"
     ]
    },
    {
     "name": "stdout",
     "output_type": "stream",
     "text": [
      "'Best distance for population in iteration 245: 38017139.57604892'\n",
      "'Best distance for population in iteration 246: 38005660.752195865'\n",
      "'Best distance for population in iteration 247: 37999123.27062618'\n",
      "'Best distance for population in iteration 248: 37995230.72997004'\n",
      "'Best distance for population in iteration 249: 37986288.61509872'\n",
      "'Best distance for population in iteration 250: 37967872.74178458'\n",
      "'Best distance for population in iteration 251: 37965429.779218614'\n",
      "'Best distance for population in iteration 252: 37955673.81621398'\n",
      "'Best distance for population in iteration 253: 37940702.5505826'\n",
      "'Best distance for population in iteration 254: 37936474.96252803'\n",
      "'Best distance for population in iteration 255: 37927791.08357615'\n",
      "'Best distance for population in iteration 256: 37920155.99667643'\n",
      "'Best distance for population in iteration 257: 37910667.10280519'\n",
      "'Best distance for population in iteration 258: 37896623.007307194'\n",
      "'Best distance for population in iteration 259: 37883089.01704033'\n",
      "'Best distance for population in iteration 260: 37868669.419934854'\n",
      "'Best distance for population in iteration 261: 37860139.51125948'\n",
      "'Best distance for population in iteration 262: 37853618.57949244'\n",
      "'Best distance for population in iteration 263: 37848731.99382385'\n",
      "'Best distance for population in iteration 264: 37843541.35417172'\n",
      "'Best distance for population in iteration 265: 37831525.90430079'\n",
      "'Best distance for population in iteration 266: 37820746.607363194'\n",
      "'Best distance for population in iteration 267: 37816522.39693261'\n",
      "'Best distance for population in iteration 268: 37808253.787377685'\n",
      "'Best distance for population in iteration 269: 37797169.12824436'\n",
      "'Best distance for population in iteration 270: 37789612.725352496'\n",
      "'Best distance for population in iteration 271: 37785087.41606164'\n",
      "'Best distance for population in iteration 272: 37772744.373266086'\n",
      "'Best distance for population in iteration 273: 37761051.83796123'\n",
      "'Best distance for population in iteration 274: 37743938.24925526'\n",
      "'Best distance for population in iteration 275: 37740813.18597985'\n",
      "'Best distance for population in iteration 276: 37733115.4095711'\n",
      "'Best distance for population in iteration 277: 37728044.34519675'\n",
      "'Best distance for population in iteration 278: 37719330.81055047'\n",
      "'Best distance for population in iteration 279: 37711053.72196449'\n",
      "'Best distance for population in iteration 280: 37702389.7250161'\n",
      "'Best distance for population in iteration 281: 37691981.180194356'\n",
      "'Best distance for population in iteration 282: 37687620.79833529'\n",
      "'Best distance for population in iteration 283: 37678590.401851974'\n",
      "'Best distance for population in iteration 284: 37665389.84045657'\n",
      "'Best distance for population in iteration 285: 37653963.154901706'\n",
      "'Best distance for population in iteration 286: 37646552.34580985'\n",
      "'Best distance for population in iteration 287: 37638339.87794141'\n",
      "'Best distance for population in iteration 288: 37630260.02779764'\n",
      "'Best distance for population in iteration 289: 37623205.48651878'\n",
      "'Best distance for population in iteration 290: 37611531.58283638'\n",
      "'Best distance for population in iteration 291: 37602897.77026319'\n",
      "'Best distance for population in iteration 292: 37590512.91986733'\n",
      "'Best distance for population in iteration 293: 37581563.48984959'\n",
      "'Best distance for population in iteration 294: 37577588.94145529'\n",
      "'Best distance for population in iteration 295: 37568134.34317752'\n",
      "'Best distance for population in iteration 296: 37560771.61670077'\n",
      "'Best distance for population in iteration 297: 37543080.45503172'\n",
      "'Best distance for population in iteration 298: 37541465.86128536'\n",
      "'Best distance for population in iteration 299: 37535196.54236583'\n"
     ]
    },
    {
     "data": {
      "image/png": "[encoded data removed]",
      "text/plain": [
       "<Figure size 432x288 with 1 Axes>"
      ]
     },
     "metadata": {
      "needs_background": "light"
     },
     "output_type": "display_data"
    },
    {
     "name": "stdout",
     "output_type": "stream",
     "text": [
      "'Overall best distance: 37535196.54236583'\n",
      "'Time taken: 19728.284106731415 s'\n"
     ]
    }
   ],
   "source": [
    "start_time = time.time()\n",
    "filename = 'TSPdata/tsp-case04.txt'\n",
    "popSize = 80\n",
    "eliteSize = int(popSize * 0.2)\n",
    "mutationProbability = 0.15\n",
    "iteration_limit = 300\n",
    "\n",
    "cityList = genCityList(filename)\n",
    "\n",
    "population = initialPopulation(popSize, cityList)\n",
    "distances = [Fitness(p).routeDistance() for p in population]\n",
    "min_dist = min(distances)\n",
    "dist = []\n",
    "\n",
    "print(\"Best distance for initial population: \" + str(min_dist))\n",
    "\n",
    "temp_min_dist = 0\n",
    "repeatCount = 0\n",
    "\n",
    "for i in range(iteration_limit):\n",
    "    population = oneGeneration(population, eliteSize, mutationProbability)\n",
    "    distances = [Fitness(p).routeDistance() for p in population]\n",
    "    min_dist = min(distances)\n",
    "    dist.append(min_dist)\n",
    "    print(\"Best distance for population in iteration \" + str(i) +\n",
    "          \": \" + str(min_dist))\n",
    "    if min_dist == temp_min_dist:\n",
    "        repeatCount += 1\n",
    "    else:\n",
    "        temp_min_dist = min_dist\n",
    "        repeatCount = 0\n",
    "    if repeatCount > 100:\n",
    "        break\n",
    "    \n",
    "plt.plot(dist)\n",
    "plt.show()\n",
    "print(\"Overall best distance: \" + str(min(dist)))\n",
    "\n",
    "end_time = time.time()\n",
    "print(\"Time taken: {} s\".format(end_time-start_time))"
   ]
  },
  {
   "cell_type": "markdown",
   "metadata": {},
   "source": [
    "## Saving the final solution\n",
    "\n",
    "Once you have completed the lab, you will have to save the final solution to a CSV file for verification. Note that any cheating (identical CSV files, reporting wrong total distances, or modifying coordinates) will result in zero marks awarded for this lab."
   ]
  },
  {
   "cell_type": "code",
   "execution_count": 31,
   "metadata": {},
   "outputs": [],
   "source": [
    "filename = 'mysolution.csv'\n",
    "distances = [Fitness(p).routeDistance() for p in population]\n",
    "index = np.argmin(distances)\n",
    "best_route = population[index]\n",
    "with open(filename, mode='w') as f:\n",
    "    writer = csv.writer(f, delimiter=' ', quotechar='\"', quoting=csv.QUOTE_MINIMAL)\n",
    "    for i in range(len(best_route)):\n",
    "        writer.writerow([i, best_route[i].x, best_route[i].y])"
   ]
  },
  {
   "cell_type": "code",
   "execution_count": null,
   "metadata": {},
   "outputs": [],
   "source": []
  },
  {
   "cell_type": "code",
   "execution_count": null,
   "metadata": {},
   "outputs": [],
   "source": []
  },
  {
   "cell_type": "code",
   "execution_count": null,
   "metadata": {},
   "outputs": [],
   "source": []
  }
 ],
 "metadata": {
  "kernelspec": {
   "display_name": "Python 3",
   "language": "python",
   "name": "python3"
  },
  "language_info": {
   "codemirror_mode": {
    "name": "ipython",
    "version": 3
   },
   "file_extension": ".py",
   "mimetype": "text/x-python",
   "name": "python",
   "nbconvert_exporter": "python",
   "pygments_lexer": "ipython3",
   "version": "3.7.3"
  }
 },
 "nbformat": 4,
 "nbformat_minor": 2
}
