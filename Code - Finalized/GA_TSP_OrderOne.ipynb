{
 "cells": [
  {
   "cell_type": "markdown",
   "metadata": {},
   "source": [
    "# Genetic Algorithm Lab"
   ]
  },
  {
   "cell_type": "markdown",
   "metadata": {},
   "source": [
    "## Imports"
   ]
  },
  {
   "cell_type": "code",
   "execution_count": null,
   "metadata": {},
   "outputs": [],
   "source": [
    "%matplotlib inline\n",
    "import numpy as np\n",
    "import pandas as pd\n",
    "import matplotlib.pyplot as plt\n",
    "import random\n",
    "import time\n",
    "import csv\n",
    "from pprint import pprint as print # pretty printing, easier to read but takes more room"
   ]
  },
  {
   "cell_type": "markdown",
   "metadata": {},
   "source": [
    "## Convenience Classes\n",
    "\n",
    "The 'City' class allows us to easily measure distance between cities. A list of cities is called a route, and will be our chromosome for this genetic algorithm."
   ]
  },
  {
   "cell_type": "code",
   "execution_count": null,
   "metadata": {},
   "outputs": [],
   "source": [
    "class City:\n",
    "    def __init__(self, x, y):\n",
    "        self.x = x\n",
    "        self.y = y\n",
    "        \n",
    "    def distance(self, city):\n",
    "        xDis = abs(self.x - city.x)\n",
    "        yDis = abs(self.y - city.y)\n",
    "        distance = np.sqrt((xDis ** 2) + (yDis ** 2))\n",
    "        return distance\n",
    "    \n",
    "    def __repr__(self):\n",
    "        return \"(\" + str(self.x) + \",\" + str(self.y) + \")\""
   ]
  },
  {
   "cell_type": "markdown",
   "metadata": {},
   "source": [
    "The 'Fitness' class helps to calculate both the distance and the fitness of a route (list of City instances)."
   ]
  },
  {
   "cell_type": "code",
   "execution_count": null,
   "metadata": {},
   "outputs": [],
   "source": [
    "class Fitness:\n",
    "    def __init__(self, route):\n",
    "        self.route = route\n",
    "        self.distance = None\n",
    "        self.fitness = None\n",
    "    \n",
    "    def routeDistance(self):\n",
    "        if self.distance == None:\n",
    "            pathDistance = 0.0\n",
    "            for i in range(0, len(self.route)):\n",
    "                fromCity = self.route[i]\n",
    "                toCity = None\n",
    "                if i+1 < len(self.route):\n",
    "                    toCity = self.route[i+1]\n",
    "                else:\n",
    "                    toCity = self.route[0]\n",
    "                pathDistance += fromCity.distance(toCity)\n",
    "            self.distance = pathDistance\n",
    "        return self.distance\n",
    "    \n",
    "    def routeFitness(self):\n",
    "        if self.fitness == None:\n",
    "            self.fitness = 1 / float(self.routeDistance())\n",
    "        return self.fitness"
   ]
  },
  {
   "cell_type": "markdown",
   "metadata": {},
   "source": [
    "## Initialization Step\n",
    "\n",
    "Initialization starts with a large **population** of randomly generated chromosomes. We will use 3 functions. The first one generates a list of cities from a file."
   ]
  },
  {
   "cell_type": "code",
   "execution_count": null,
   "metadata": {},
   "outputs": [],
   "source": [
    "def genCityList(filename):\n",
    "    cityList = []\n",
    "    \n",
    "    #Read the data from textfile into pandas dataframe\n",
    "    data = pd.read_csv(filename, sep=\" \", header=None, names=[\"index\", \"x\", \"y\"])\n",
    "    data.set_index('index', inplace=True)\n",
    "    \n",
    "    #Iterate through the dataframe and use x and y coordinates to create City objects\n",
    "    for index, row in data.iterrows():\n",
    "        cityList.append(City(row['x'], row['y']))\n",
    "    \n",
    "    return cityList"
   ]
  },
  {
   "cell_type": "markdown",
   "metadata": {},
   "source": [
    "The second function generates a random route (chromosome) from a list of City instances."
   ]
  },
  {
   "cell_type": "code",
   "execution_count": null,
   "metadata": {},
   "outputs": [],
   "source": [
    "def createRoute(cityList):\n",
    "    route = random.sample(cityList, len(cityList))\n",
    "    return route"
   ]
  },
  {
   "cell_type": "markdown",
   "metadata": {},
   "source": [
    "The third function repeatedly calls the second function to create an initial population (list of routes)."
   ]
  },
  {
   "cell_type": "code",
   "execution_count": null,
   "metadata": {},
   "outputs": [],
   "source": [
    "def initialPopulation(popSize, cityList):\n",
    "    population = []\n",
    "    for i in range(0, popSize):\n",
    "        population.append(createRoute(cityList))\n",
    "    return population"
   ]
  },
  {
   "cell_type": "markdown",
   "metadata": {},
   "source": [
    "## Selection\n",
    "\n",
    "Parent selection is the primary form of selection, and is used to create a mating pool."
   ]
  },
  {
   "cell_type": "code",
   "execution_count": null,
   "metadata": {},
   "outputs": [],
   "source": [
    "'''\n",
    "This function is used to rank the routes in the population in descending order\n",
    "This function returns the indexes of the routes rather the actual routes\n",
    "''' \n",
    "def rankRoutes(population):\n",
    "    fitnessResults = {}\n",
    "    for i in range(0, len(population)):\n",
    "        fitnessResults[i] = Fitness(population[i]).routeFitness()\n",
    "    return sorted(fitnessResults.items(), key = lambda x : x[1], reverse = True)"
   ]
  },
  {
   "cell_type": "code",
   "execution_count": null,
   "metadata": {},
   "outputs": [],
   "source": [
    "def parentSelection(population, poolSize=None):\n",
    "    \"\"\"\n",
    "    Note that this function returns only poolSize City instances. This\n",
    "    is useful if we are doing survivorSelection as well, otherwise we\n",
    "    can just set poolSize = len(population).\n",
    "    \"\"\"\n",
    "    if poolSize == None:\n",
    "        poolSize = len(population)\n",
    "    \n",
    "    matingPool = []\n",
    "    ###Roulette Wheel\n",
    "\n",
    "    ###Version 2\n",
    "    max = sum(Fitness(p).routeFitness() for p in population)\n",
    "    selection_probs = [Fitness(p).routeFitness()/max for p in population]\n",
    "    \n",
    "    for i in range(0, poolSize):\n",
    "        matingPool.append(population[np.random.choice(len(population), p=selection_probs)])\n",
    "    \n",
    "    return matingPool"
   ]
  },
  {
   "cell_type": "code",
   "execution_count": null,
   "metadata": {},
   "outputs": [],
   "source": [
    "def parentSelection(population, poolSize=None):\n",
    "    ###Roulette Wheel Selection###\n",
    "    if poolSize == None:\n",
    "        poolSize = len(population)\n",
    "    \n",
    "    matingPool = []\n",
    "    \n",
    "    '''\n",
    "    Calculate the selection probalities for each route\n",
    "    Route with higher fitness will have greater probability\n",
    "    '''\n",
    "    max = sum(Fitness(p).routeFitness() for p in population)\n",
    "    selection_probs = [Fitness(p).routeFitness()/max for p in population]\n",
    "    \n",
    "    #Randomly select routes based on their probabilities\n",
    "    for i in range(0, poolSize):\n",
    "        matingPool.append(population[np.random.choice(len(population), p=selection_probs)])\n",
    "    \n",
    "    return matingPool"
   ]
  },
  {
   "cell_type": "markdown",
   "metadata": {},
   "source": [
    "Another form of selection is survivor selection, which is used to ensure certain individuals (normally high fitness ones) survive to the next generation."
   ]
  },
  {
   "cell_type": "code",
   "execution_count": null,
   "metadata": {},
   "outputs": [],
   "source": [
    "def survivorSelection(population, popRanked, eliteSize):\n",
    "    elites = []\n",
    "    selectionResults = []\n",
    "    \n",
    "    ###Fitness based survivor selection\n",
    "    '''\n",
    "    Note: popRanked stores the ranked routes\n",
    "    Get the indexes of the first eliteSize routes with top fitnesses\n",
    "    '''\n",
    "    for i in range(eliteSize):\n",
    "        selectionResults.append(popRanked[i][0])\n",
    "        \n",
    "    #Get the actual routes using the indexes in selectionResults\n",
    "    for i in range(0, len(selectionResults)):\n",
    "        elites.append(population[selectionResults[i]])\n",
    "\n",
    "    return elites"
   ]
  },
  {
   "cell_type": "markdown",
   "metadata": {},
   "source": [
    "## Crossover\n",
    "\n",
    "The crossover function combines two parents in such a way that their children inherit some of each parent's characteristics. In the case of TSP, you will need to use crossover methods such as Davis' Order Crossover (other examples are listed in the lecture slides)."
   ]
  },
  {
   "cell_type": "code",
   "execution_count": null,
   "metadata": {},
   "outputs": [],
   "source": [
    "def crossover(parent1, parent2):\n",
    "    ###Order One Crossover###\n",
    "    child = [None] * len(parent1)\n",
    "    \n",
    "    #generate a random slice within the chromosome\n",
    "    geneA = int(random.random() * len(parent1))\n",
    "    geneB = int(random.random() * len(parent1))\n",
    "    \n",
    "    # check for identical genes i.e. gene1 == gene2\n",
    "    while geneA == geneB:\n",
    "        geneA = random.randint(0, len(parent1) - 1)\n",
    "        geneB = random.randint(0, len(parent1) - 1)\n",
    "\n",
    "    # sort the order\n",
    "    startGene = min(geneA, geneB)\n",
    "    endGene = max(geneA, geneB)\n",
    "\n",
    "    '''\n",
    "    First, copy the selected portion from parent1 to child\n",
    "    Second, copy the genes from parent2 to child which are not in the child\n",
    "    '''\n",
    "    for i in range(startGene, endGene + 1):\n",
    "        child[i] = parent2[i]\n",
    "        \n",
    "    temp = [gene for gene in parent1 if gene not in child and not None]\n",
    "    \n",
    "    count = 0\n",
    "    while None in child:\n",
    "        child[child.index(None)] = temp[count]\n",
    "        count += 1\n",
    "    \n",
    "    return child"
   ]
  },
  {
   "cell_type": "markdown",
   "metadata": {},
   "source": [
    "Crossover should be run on pairs from the mating pool to produce a new generation (of the same size)."
   ]
  },
  {
   "cell_type": "code",
   "execution_count": null,
   "metadata": {},
   "outputs": [],
   "source": [
    "def breedPopulation(matingpool, poolSize):\n",
    "    children = []\n",
    "    \n",
    "    for i in range(0, poolSize):\n",
    "        child = crossover(matingpool[i-1], matingpool[i])\n",
    "        children.append(child)\n",
    "        \n",
    "    return children"
   ]
  },
  {
   "cell_type": "markdown",
   "metadata": {},
   "source": [
    "## Mutation\n",
    "\n",
    "Mutations are small random changes which maintain/introduce diversity. By necessity, mutations must occur at low probability and avoid changing everything in a chromosome. As with crossover, mutation in TSP must respect the constraint that every City occurs exactly once in the Route."
   ]
  },
  {
   "cell_type": "code",
   "execution_count": null,
   "metadata": {},
   "outputs": [],
   "source": [
    "def mutate(route):\n",
    "    ###Inverse Mutation###\n",
    "    portionLen = int(0.05 * len(route))\n",
    "\n",
    "    #get a random portion of a route and inverse that portion\n",
    "    idx = random.randint(0, len(route) - portionLen)\n",
    "    route[idx : idx + portionLen] = reversed(route[idx : idx + portionLen])\n",
    "    \n",
    "    return route"
   ]
  },
  {
   "cell_type": "markdown",
   "metadata": {},
   "source": [
    "The mutate function needs to be run over the entire population, obviously."
   ]
  },
  {
   "cell_type": "code",
   "execution_count": null,
   "metadata": {},
   "outputs": [],
   "source": [
    "def mutation(population):\n",
    "    mutatedPopulation = []\n",
    "    for i in range(0, len(population)):\n",
    "        mutatedIndividual = mutate(population[i])\n",
    "        mutatedPopulation.append(mutatedIndividual)\n",
    "    return mutatedPopulation"
   ]
  },
  {
   "cell_type": "markdown",
   "metadata": {},
   "source": [
    "## Running One Generation\n",
    "\n",
    "Now that we have (almost) all our component functions in place, let's call them altogether."
   ]
  },
  {
   "cell_type": "code",
   "execution_count": null,
   "metadata": {},
   "outputs": [],
   "source": [
    "def oneGeneration(population, eliteSize):\n",
    "    \n",
    "    # First rank the chromosomes in the population\n",
    "    popRanked = rankRoutes(population)\n",
    "    \n",
    "    # First we preserve the elites\n",
    "    elites = survivorSelection(population, popRanked, eliteSize)\n",
    "    \n",
    "    # Then we calculate what our mating pool size should be and generate\n",
    "    # the mating pool\n",
    "    poolSize = len(population) - eliteSize\n",
    "    matingpool = parentSelection(population, poolSize)\n",
    "    \n",
    "    # Then we perform crossover on the mating pool\n",
    "    children = breedPopulation(matingpool, poolSize)\n",
    "    \n",
    "    # We combine the elites and children into one population\n",
    "    new_population = elites + children\n",
    "    \n",
    "    # We mutate the population\n",
    "    mutated_population = mutation(new_population)\n",
    "    \n",
    "    return mutated_population"
   ]
  },
  {
   "cell_type": "markdown",
   "metadata": {},
   "source": [
    "## Running Genetic Algorithm\n",
    "\n",
    "The entire genetic algorithm needs to initialize a Route of City instances, then iteratively generate new generations. Take note that, unlike all the cells above, the cell below is NOT a function. Various parameters are set right at the top (you should set them to something reasonable)."
   ]
  },
  {
   "cell_type": "code",
   "execution_count": null,
   "metadata": {},
   "outputs": [],
   "source": [
    "start_time = time.time()\n",
    "'''\n",
    "filename = 'TSPdata/tsp-case04.txt'\n",
    "popSize = 40\n",
    "eliteSize = 10\n",
    "iteration_limit = 200\n",
    "'''\n",
    "filename = 'TSPdata/tsp-case03.txt'\n",
    "popSize = 20\n",
    "eliteSize = 5\n",
    "iteration_limit = 100\n",
    "\n",
    "cityList = genCityList(filename)\n",
    "\n",
    "population = initialPopulation(popSize, cityList)\n",
    "distances = [Fitness(p).routeDistance() for p in population]\n",
    "min_dist = min(distances)\n",
    "print(\"Best distance for initial population: \" + str(min_dist))\n",
    "progress = []\n",
    "progress.append(1 / rankRoutes(population)[0][1])#append the best route in each iteration into the list\n",
    "\n",
    "for i in range(iteration_limit):\n",
    "    population = oneGeneration(population, eliteSize)\n",
    "    distances = [Fitness(p).routeDistance() for p in population]\n",
    "    min_dist = min(distances)\n",
    "    print(\"Best distance for population in iteration \" + str(i) +\n",
    "          \": \" + str(min_dist))\n",
    "    progress.append(1 / rankRoutes(population)[0][1])#append the best route in each iteration into the list\n",
    "\n",
    "#plot the graph showing the improvement of solution over generations\n",
    "plt.plot(progress)\n",
    "plt.ylabel('Distance')\n",
    "plt.xlabel('Generation')\n",
    "plt.show()\n",
    "\n",
    "end_time = time.time()\n",
    "print(\"Time taken: {} s\".format(end_time-start_time))"
   ]
  },
  {
   "cell_type": "markdown",
   "metadata": {},
   "source": [
    "## Saving the final solution\n",
    "\n",
    "Once you have completed the lab, you will have to save the final solution to a CSV file for verification. Note that any cheating (identical CSV files, reporting wrong total distances, or modifying coordinates) will result in zero marks awarded for this lab."
   ]
  },
  {
   "cell_type": "code",
   "execution_count": null,
   "metadata": {},
   "outputs": [],
   "source": [
    "filename = 'mysolution.csv'\n",
    "distances = [Fitness(p).routeDistance() for p in population]\n",
    "index = np.argmin(distances)\n",
    "best_route = population[index]\n",
    "with open(filename, mode='w') as f:\n",
    "    writer = csv.writer(f, delimiter=' ', quotechar='\"', quoting=csv.QUOTE_MINIMAL)\n",
    "    for i in range(len(best_route)):\n",
    "        writer.writerow([i, best_route[i].x, best_route[i].y])"
   ]
  }
 ],
 "metadata": {
  "kernelspec": {
   "display_name": "Python 3",
   "language": "python",
   "name": "python3"
  },
  "language_info": {
   "codemirror_mode": {
    "name": "ipython",
    "version": 3
   },
   "file_extension": ".py",
   "mimetype": "text/x-python",
   "name": "python",
   "nbconvert_exporter": "python",
   "pygments_lexer": "ipython3",
   "version": "3.7.3"
  }
 },
 "nbformat": 4,
 "nbformat_minor": 2
}
